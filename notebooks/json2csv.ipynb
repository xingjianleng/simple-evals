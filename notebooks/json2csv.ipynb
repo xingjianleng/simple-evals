{
 "cells": [
  {
   "cell_type": "code",
   "execution_count": 1,
   "metadata": {},
   "outputs": [],
   "source": [
    "%load_ext autoreload\n",
    "%autoreload 2"
   ]
  },
  {
   "cell_type": "code",
   "execution_count": 2,
   "metadata": {},
   "outputs": [],
   "source": [
    "import os\n",
    "import json\n",
    "import pandas as pd"
   ]
  },
  {
   "cell_type": "code",
   "execution_count": 3,
   "metadata": {},
   "outputs": [],
   "source": [
    "paths = ['../data/MATH_TEST210', '../data/MATH_TEST245', '../data/MATH_TEST630']\n",
    "\n",
    "for path in paths:\n",
    "    out_df = []\n",
    "    question_files = [os.path.join(path, elem) for elem in os.listdir(path) if elem.endswith('.json')]\n",
    "    for question_file in question_files:\n",
    "        info = {}\n",
    "        with open(question_file, 'r') as f:\n",
    "            question = json.load(f)\n",
    "        info[\"Question\"] = question[\"problem\"]\n",
    "        info[\"Answer\"] = question[\"solution\"]\n",
    "        out_df.append(info)\n",
    "    out_df = pd.DataFrame(out_df)\n",
    "    out_df.to_csv(path + '.csv')"
   ]
  }
 ],
 "metadata": {
  "kernelspec": {
   "display_name": "eval",
   "language": "python",
   "name": "python3"
  },
  "language_info": {
   "codemirror_mode": {
    "name": "ipython",
    "version": 3
   },
   "file_extension": ".py",
   "mimetype": "text/x-python",
   "name": "python",
   "nbconvert_exporter": "python",
   "pygments_lexer": "ipython3",
   "version": "3.10.14"
  }
 },
 "nbformat": 4,
 "nbformat_minor": 2
}
