{
 "cells": [
  {
   "cell_type": "markdown",
   "metadata": {},
   "source": [
    "### csv w/ pandas"
   ]
  },
  {
   "cell_type": "code",
   "execution_count": null,
   "metadata": {},
   "outputs": [],
   "source": [
    "import pandas\n",
    "import urllib\n",
    "import io\n",
    "\n",
    "url = \"https://openaipublic.blob.core.windows.net/simple-evals/math_test.csv\"\n",
    "with urllib.request.urlopen(url) as f:\n",
    "    df = pandas.read_csv(io.BytesIO(f.read()))"
   ]
  },
  {
   "cell_type": "markdown",
   "metadata": {},
   "source": [
    "### tsv"
   ]
  },
  {
   "cell_type": "code",
   "execution_count": null,
   "metadata": {},
   "outputs": [],
   "source": [
    "import urllib\n",
    "\n",
    "LANG_TO_FPATH = {\n",
    "    \"bn\": \"https://openaipublic.blob.core.windows.net/simple-evals/mgsm_bn.tsv\",\n",
    "    \"de\": \"https://openaipublic.blob.core.windows.net/simple-evals/mgsm_de.tsv\",\n",
    "    \"en\": \"https://openaipublic.blob.core.windows.net/simple-evals/mgsm_en.tsv\",\n",
    "    \"es\": \"https://openaipublic.blob.core.windows.net/simple-evals/mgsm_es.tsv\",\n",
    "    \"fr\": \"https://openaipublic.blob.core.windows.net/simple-evals/mgsm_fr.tsv\",\n",
    "    \"ja\": \"https://openaipublic.blob.core.windows.net/simple-evals/mgsm_ja.tsv\",\n",
    "    \"ru\": \"https://openaipublic.blob.core.windows.net/simple-evals/mgsm_ru.tsv\",\n",
    "    \"sw\": \"https://openaipublic.blob.core.windows.net/simple-evals/mgsm_sw.tsv\",\n",
    "    \"te\": \"https://openaipublic.blob.core.windows.net/simple-evals/mgsm_te.tsv\",\n",
    "    \"th\": \"https://openaipublic.blob.core.windows.net/simple-evals/mgsm_th.tsv\",\n",
    "    \"zh\": \"https://openaipublic.blob.core.windows.net/simple-evals/mgsm_zh.tsv\",\n",
    "}\n",
    "\n",
    "def get_lang_examples(lang: str) -> list[dict[str, str]]:\n",
    "    fpath = LANG_TO_FPATH[lang]\n",
    "    examples = []\n",
    "    with urllib.request.urlopen(fpath) as f:\n",
    "        for line in f:\n",
    "            inputs, targets = line.decode(\"utf-8\").strip().split(\"\\t\")\n",
    "            if \".\" in targets:\n",
    "                raise ValueError(f\"targets {targets} contains a decimal point.\")\n",
    "            # targets = int(targets.replace(\",\", \"\"))\n",
    "            examples.append({\"inputs\": inputs, \"targets\": targets, \"lang\": lang})\n",
    "    return examples\n",
    "\n",
    "get_lang_examples('en')"
   ]
  },
  {
   "cell_type": "markdown",
   "metadata": {},
   "source": [
    "### gzip"
   ]
  },
  {
   "cell_type": "code",
   "execution_count": null,
   "metadata": {},
   "outputs": [],
   "source": [
    "import gzip\n",
    "import json\n",
    "\n",
    "\n",
    "train_jsonl = (\n",
    "    \"https://openaipublic.blob.core.windows.net/simple-evals/drop_v0_train.jsonl.gz\"\n",
    ")\n",
    "with urllib.request.urlopen(train_jsonl) as url_file:\n",
    "    with gzip.GzipFile(fileobj=url_file) as f:\n",
    "        train_samples = list(map(json.loads, f.readlines()))\n",
    "train_samples"
   ]
  }
 ],
 "metadata": {
  "kernelspec": {
   "display_name": "autogen",
   "language": "python",
   "name": "python3"
  },
  "language_info": {
   "codemirror_mode": {
    "name": "ipython",
    "version": 3
   },
   "file_extension": ".py",
   "mimetype": "text/x-python",
   "name": "python",
   "nbconvert_exporter": "python",
   "pygments_lexer": "ipython3",
   "version": "3.10.14"
  }
 },
 "nbformat": 4,
 "nbformat_minor": 2
}
