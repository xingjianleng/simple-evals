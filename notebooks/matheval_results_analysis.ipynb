{
 "cells": [
  {
   "cell_type": "code",
   "execution_count": null,
   "metadata": {},
   "outputs": [],
   "source": [
    "%load_ext autoreload\n",
    "%autoreload 2"
   ]
  },
  {
   "cell_type": "code",
   "execution_count": null,
   "metadata": {},
   "outputs": [],
   "source": [
    "import pandas as pd\n",
    "import os\n",
    "import json\n",
    "import glob"
   ]
  },
  {
   "cell_type": "markdown",
   "metadata": {},
   "source": [
    "### Benchmark analysis"
   ]
  },
  {
   "cell_type": "code",
   "execution_count": null,
   "metadata": {},
   "outputs": [],
   "source": [
    "output_path = \"../output\"\n",
    "datasets = [f\"MATH_TEST{elem}\" for elem in [210, 245, 630]]\n",
    "response_llms = [f\"{llm}_{prompt}\"\n",
    "                 for llm in [\"llama3-8b_vllm\", \"qwen2-7b_vllm\", \"llama3-70b_vllm\", \"qwen2-72b_vllm\"]\n",
    "                 for prompt in [\"assistant\", \"math\"]]\n",
    "checker_llm = [\"llama3-70b\", \"qwen2-72b\"]"
   ]
  },
  {
   "cell_type": "code",
   "execution_count": null,
   "metadata": {},
   "outputs": [],
   "source": [
    "out_dict = {}\n",
    "\n",
    "# out should be df with columns set to datasets name, \n",
    "for checker in checker_llm:\n",
    "    out_dict[checker] = []\n",
    "    for dataset in datasets:\n",
    "        dataset_eval = {}\n",
    "        for response_llm in response_llms:\n",
    "            file_path = os.path.join(output_path, f\"{dataset}_{response_llm}\")\n",
    "            # df = pd.read_csv(glob.glob(os.path.join(file_path, f\"report_{checker}_*.csv\"))[0])\n",
    "            json_reports = glob.glob(os.path.join(file_path, f\"report_{checker}_*.json\"))\n",
    "            assert len(json_reports) >= 1\n",
    "            json_report = json_reports[0]\n",
    "            with open(json_report, \"r\") as f:\n",
    "                report = json.load(f)\n",
    "            dataset_eval[response_llm] = round(report[\"score\"] * 100, 2)\n",
    "        out_dict[checker].append(dataset_eval)\n",
    "    out_dict[checker] = pd.DataFrame(out_dict[checker], index=datasets)"
   ]
  },
  {
   "cell_type": "code",
   "execution_count": null,
   "metadata": {},
   "outputs": [],
   "source": [
    "out_dict[\"llama3-70b\"]"
   ]
  },
  {
   "cell_type": "code",
   "execution_count": null,
   "metadata": {},
   "outputs": [],
   "source": [
    "out_dict[\"qwen2-72b\"]"
   ]
  },
  {
   "cell_type": "markdown",
   "metadata": {},
   "source": [
    "### Insert answers to report csv"
   ]
  },
  {
   "cell_type": "code",
   "execution_count": null,
   "metadata": {},
   "outputs": [],
   "source": [
    "for checker in checker_llm:\n",
    "    for dataset in datasets:\n",
    "        data = pd.read_csv(f\"../data/{dataset}.csv\")\n",
    "        for response_llm in response_llms:\n",
    "            file_path = os.path.join(output_path, f\"{dataset}_{response_llm}\")\n",
    "            df = pd.read_csv(glob.glob(os.path.join(file_path, f\"report_{checker}_*.csv\"))[0])\n",
    "            answers = []\n",
    "            for i in df.index:\n",
    "                answers.append(data.iloc[i]['Answer'])\n",
    "            df[\"Answer\"] = answers\n",
    "            df.to_csv(f\"{dataset}_{response_llm}_[{checker}].csv\")\n",
    "print(\"Done\")"
   ]
  }
 ],
 "metadata": {
  "kernelspec": {
   "display_name": "eval",
   "language": "python",
   "name": "python3"
  },
  "language_info": {
   "codemirror_mode": {
    "name": "ipython",
    "version": 3
   },
   "file_extension": ".py",
   "mimetype": "text/x-python",
   "name": "python",
   "nbconvert_exporter": "python",
   "pygments_lexer": "ipython3",
   "version": "3.10.14"
  }
 },
 "nbformat": 4,
 "nbformat_minor": 2
}
